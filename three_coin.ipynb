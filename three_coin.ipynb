{
 "cells": [
  {
   "cell_type": "code",
   "execution_count": 1,
   "metadata": {
    "collapsed": true
   },
   "outputs": [],
   "source": [
    "import numpy as np"
   ]
  },
  {
   "cell_type": "code",
   "execution_count": 13,
   "metadata": {
    "collapsed": false
   },
   "outputs": [
    {
     "name": "stdout",
     "output_type": "stream",
     "text": [
      "0.07378608813811505\n",
      "1.1102230246251565e-16\n",
      "[0.40641711229946526, 0.536842105263158, 0.6432432432432431]\n"
     ]
    }
   ],
   "source": [
    "# 三硬币模型的EM 算法\n",
    "Y=[1,1,0,1,0,0,1,0,1,1]\n",
    "theta0=[0.4,0.6,0.7]\n",
    "epoch=10\n",
    "EPS,eps=1e-9,1\n",
    "i=0\n",
    "pai,p,q=theta0\n",
    "while i<epoch and eps>EPS:\n",
    "    miu,pj,qj=[],0,0\n",
    "    l2=np.linalg.norm([pai,p,q])\n",
    "    for y in Y:\n",
    "        miuj=pai*p**y*(1-p)**(1-y)/(pai*p**y*(1-p)**(1-y)+(1-pai)*q**y*(1-q)**(1-y))\n",
    "        miu.append(miuj)\n",
    "        pj+=miuj*y\n",
    "        qj+=(1-miuj)*y\n",
    "    miu=np.array(miu)\n",
    "    pai=np.mean(miu)\n",
    "    p,q=pj/np.sum(miu),qj/np.sum(1-miu)\n",
    "    i+=1\n",
    "    eps=abs(l2-np.linalg.norm([pai,p,q]))\n",
    "    print(eps)\n",
    "print([pai,p,q])  \n",
    "    \n",
    "    "
   ]
  },
  {
   "cell_type": "code",
   "execution_count": 12,
   "metadata": {
    "collapsed": false
   },
   "outputs": [
    {
     "data": {
      "text/plain": [
       "0.07378608813811505"
      ]
     },
     "execution_count": 12,
     "metadata": {},
     "output_type": "execute_result"
    }
   ],
   "source": [
    "eps"
   ]
  },
  {
   "cell_type": "code",
   "execution_count": 14,
   "metadata": {
    "collapsed": false
   },
   "outputs": [
    {
     "data": {
      "text/plain": [
       "2"
      ]
     },
     "execution_count": 14,
     "metadata": {},
     "output_type": "execute_result"
    }
   ],
   "source": [
    "i"
   ]
  },
  {
   "cell_type": "code",
   "execution_count": null,
   "metadata": {
    "collapsed": true
   },
   "outputs": [],
   "source": []
  }
 ],
 "metadata": {
  "anaconda-cloud": {},
  "kernelspec": {
   "display_name": "Python [conda env:Anaconda3]",
   "language": "python",
   "name": "conda-env-Anaconda3-py"
  },
  "language_info": {
   "codemirror_mode": {
    "name": "ipython",
    "version": 3
   },
   "file_extension": ".py",
   "mimetype": "text/x-python",
   "name": "python",
   "nbconvert_exporter": "python",
   "pygments_lexer": "ipython3",
   "version": "3.5.6"
  }
 },
 "nbformat": 4,
 "nbformat_minor": 1
}
