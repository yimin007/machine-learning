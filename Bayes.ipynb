{
 "cells": [
  {
   "cell_type": "code",
   "execution_count": 1,
   "metadata": {},
   "outputs": [],
   "source": [
    "import torch\n",
    "import torchvision\n",
    "import numpy as np\n",
    "from collections import Counter\n",
    "import pandas as pd\n",
    "import struct\n",
    "import matplotlib.pyplot as plt\n",
    "from PIL import Image\n",
    "import math"
   ]
  },
  {
   "cell_type": "code",
   "execution_count": 2,
   "metadata": {},
   "outputs": [],
   "source": [
    "# 训练集文件\n",
    "train_images_idx3_ubyte_file = r'D:\\notebook\\Statistics learning\\data\\MNIST\\raw\\train-images-idx3-ubyte'\n",
    "# 训练集标签文件\n",
    "train_labels_idx1_ubyte_file = r'D:\\notebook\\Statistics learning\\data\\MNIST\\raw\\train-labels-idx1-ubyte'\n",
    "# 测试集文件\n",
    "test_images_idx3_ubyte_file =r'D:\\notebook\\Statistics learning\\data\\MNIST\\raw\\t10k-images-idx3-ubyte'\n",
    "# 测试集标签文件\n",
    "test_labels_idx1_ubyte_file =r'D:\\notebook\\Statistics learning\\data\\MNIST\\raw\\t10k-labels-idx1-ubyte'\n",
    "\n",
    "\n",
    "def decode_idx3_ubyte(idx3_ubyte_file):\n",
    "\n",
    "    # 读取二进制数据\n",
    "    bin_data = open(idx3_ubyte_file, 'rb').read()\n",
    "    # 解析文件头信息，依次为魔数、图片数量、每张图片高、每张图片宽\n",
    "    offset = 0\n",
    "    fmt_header = '>iiii' #因为数据结构中前4行的数据类型都是32位整型，所以采用i格式，但我们需要读取前4行数据，所以需要4个i。我们后面会看到标签集中，只使用2个ii。\n",
    "    magic_number, num_images, num_rows, num_cols = struct.unpack_from(fmt_header, bin_data, offset)\n",
    "    #print('魔数:%d, 图片数量: %d张, 图片大小: %d*%d' % (magic_number, num_images, num_rows, num_cols))\n",
    "    image_size = num_rows * num_cols\n",
    "    offset += struct.calcsize(fmt_header)  #获得数据在缓存中的指针位置，从前面介绍的数据结构可以看出，读取了前4行之后，指针位置（即偏移位置offset）指向0016。\n",
    "    #print(offset)\n",
    "    fmt_image = '>' + str(image_size) + 'B'  #图像数据像素值的类型为unsigned char型，对应的format格式为B。这里还有加上图像大小784，是为了读取784个B格式数据，如果没有则只会读取一个值（即一副图像中的一个像素值）\n",
    "    #print(fmt_image,offset,struct.calcsize(fmt_image))\n",
    "    images = np.empty((num_images, num_rows, num_cols))\n",
    "    for i in range(num_images):\n",
    "        images[i] = np.array(struct.unpack_from(fmt_image, bin_data, offset)).reshape((num_rows, num_cols))\n",
    "        offset += struct.calcsize(fmt_image)\n",
    "    return images\n",
    "\n",
    "def decode_idx1_ubyte(idx1_ubyte_file):\n",
    "    bin_data = open(idx1_ubyte_file, 'rb').read()\n",
    "    offset = 0\n",
    "    fmt_header = '>ii'\n",
    "    magic_number, num_images = struct.unpack_from(fmt_header, bin_data, offset)\n",
    "    #print('魔数:%d, 图片数量: %d张' % (magic_number, num_images))\n",
    "    offset += struct.calcsize(fmt_header)\n",
    "    fmt_image = '>B'\n",
    "    labels = np.empty(num_images)\n",
    "    for i in range(num_images):\n",
    "        labels[i] = struct.unpack_from(fmt_image, bin_data, offset)[0]\n",
    "        offset += struct.calcsize(fmt_image)\n",
    "    return labels\n",
    "\n",
    "def load_train_images(idx_ubyte_file=train_images_idx3_ubyte_file):\n",
    "    return decode_idx3_ubyte(idx_ubyte_file)\n",
    "\n",
    "def load_train_labels(idx_ubyte_file=train_labels_idx1_ubyte_file):\n",
    "    return decode_idx1_ubyte(idx_ubyte_file)\n",
    "\n",
    "def load_test_images(idx_ubyte_file=test_images_idx3_ubyte_file):\n",
    "    return decode_idx3_ubyte(idx_ubyte_file)\n",
    "\n",
    "def load_test_labels(idx_ubyte_file=test_labels_idx1_ubyte_file):\n",
    "    return decode_idx1_ubyte(idx_ubyte_file)\n",
    "\n",
    "train_images = load_train_images()\n",
    "train_labels = load_train_labels()\n",
    "test_images = load_test_images()\n",
    "test_labels = load_test_labels()"
   ]
  },
  {
   "cell_type": "code",
   "execution_count": 21,
   "metadata": {},
   "outputs": [],
   "source": [
    "# 基本朴素贝叶斯\n",
    "class Bayes(object):\n",
    "    def __init__(self,data,label):\n",
    "        self.data=data\n",
    "        self.label=label\n",
    "        m,n,p=np.shape(self.data)\n",
    "        self.featurenum=np.prod(np.shape(data)[1:])\n",
    "        self.data=np.reshape(self.data,(m,n*p))  \n",
    "        self.propmatrix=[]\n",
    "        self.labelprop=[] \n",
    "        self.num=m\n",
    "        self.fnum=n*p\n",
    "        self.lnum=10\n",
    "    def binary(self,inputdata):\n",
    "        #若进行测试，需输入二维行数据\n",
    "        num=inputdata.shape[0]\n",
    "        for ind in range(num):\n",
    "            #meanvalue=np.mean(inputdata[ind])\n",
    "            maxvalue=np.max(inputdata[ind])+1\n",
    "            inputdata[ind]=[int(i/maxvalue*self.classnum) for i in inputdata[ind]]\n",
    "            #inputdata[ind]=np.array([0 if i<meanvalue else 1 for i in inputdata[ind]])\n",
    "            \n",
    "        return inputdata\n",
    "    def train(self,classnum=2):\n",
    "        self.classnum=classnum\n",
    "        self.data=self.binary(self.data)\n",
    "        labelcount=Counter(self.label)\n",
    "        self.lnum=len(labelcount)\n",
    "        # 先验概率，分别计算标签及属性\n",
    "        self.labelprop=np.array([(labelcount[i])/float(self.num) for i in range(self.lnum)])\n",
    "        self.propmatrix=np.empty((self.lnum,self.fnum,self.classnum))\n",
    "        for ii in range(self.lnum):\n",
    "            numList=np.squeeze(self.data[np.where(self.label==ii)])\n",
    "            numlabelii=labelcount[ii]\n",
    "            for jj in range(self.fnum):\n",
    "                numCount=Counter(numList[:,jj])\n",
    "                self.propmatrix[ii,jj,:]=[(numCount[i]+1)/float(numlabelii+self.classnum) for i in range(self.classnum)]\n",
    "            #self.propmatrix[ii,:]=(numList.sum(axis=0)+1)/float(numlabelii+self.classnum)\n",
    "\n",
    "    def test(self,X):\n",
    "        XB=np.squeeze(self.binary(X.reshape(1,-1)))\n",
    "        prop=np.empty((self.lnum,1))\n",
    "        for i in range(self.lnum):\n",
    "            prop[i]=sum([math.log(self.propmatrix[i,j,int(XB[j])]) for j in range(self.fnum)])\n",
    "            prop[i]+=math.log(self.labelprop[i])\n",
    "        label=np.argmax(prop)\n",
    "        return label\n",
    "    "
   ]
  },
  {
   "cell_type": "code",
   "execution_count": 22,
   "metadata": {},
   "outputs": [
    {
     "name": "stdout",
     "output_type": "stream",
     "text": [
      "0.8477\n"
     ]
    }
   ],
   "source": [
    "train_images = load_train_images()\n",
    "train_labels = load_train_labels()\n",
    "test_images = load_test_images()\n",
    "test_labels = load_test_labels()\n",
    "\n",
    "bayes=Bayes(train_images,train_labels)\n",
    "bayes.train(5)\n",
    "\n",
    "accuracy=0\n",
    "for i in range(test_images.shape[0]):\n",
    "    X=test_images[i]\n",
    "    label=bayes.test(X)\n",
    "    accuracy+=label==test_labels[i]\n",
    "accuracy=accuracy/float(np.size(test_labels))\n",
    "print(accuracy)"
   ]
  },
  {
   "cell_type": "code",
   "execution_count": 312,
   "metadata": {},
   "outputs": [
    {
     "name": "stdout",
     "output_type": "stream",
     "text": [
      "(array([7., 2., 1., ..., 9., 8., 6.]), 0.8474)\n"
     ]
    }
   ],
   "source": [
    "def Binarization(images):\n",
    "    for i in range(images.shape[0]):\n",
    "        imageMean = images[i].mean()\n",
    "        images[i] = np.array([0 if x < imageMean else 1 for x in images[i]])\n",
    "    return images\n",
    "def Bayes_train(train_x, train_y):    \n",
    "    #先验概率P(0), P(1)....\n",
    "    totalNum = train_x.shape[0]\n",
    "    classNum = Counter(train_y)\n",
    "    prioriP = np.array([classNum[i]/totalNum for i in range(10)])\n",
    "    \n",
    "    #后验概率\n",
    "    posteriorNum = np.empty((10, train_x.shape[1]))\n",
    "    posteriorP = np.empty((10, train_x.shape[1]))\n",
    "    for i in range(10):\n",
    "        posteriorNum[i] = train_x[np.where(train_y == i)].sum(axis = 0)  \n",
    "        #拉普拉斯平滑      \n",
    "        posteriorP[i] = (posteriorNum[i] + 1) / (classNum[i] + 2)   \n",
    "    return prioriP, posteriorP\n",
    "\n",
    "def Bayes_pret(test_x, test_y, prioriP, posteriorP):\n",
    "    pret = np.empty(test_x.shape[0])\n",
    "    for i in range(test_x.shape[0]):\n",
    "        prob = np.empty(10)\n",
    "        for j in range(10):\n",
    "            temp = sum([math.log(1-posteriorP[j][x]) if test_x[i][x] == 0 else math.log(posteriorP[j][x]) for x in range(test_x.shape[1])])\n",
    "            prob[j] = np.array(math.log(prioriP[j]) + temp)\n",
    "        pret[i] = np.argmax(prob)\n",
    "    return pret, (pret == test_y).sum()/ test_y.shape[0]\n",
    "\n",
    "train_x_data = train_images\n",
    "train_y = train_labels\n",
    "train_x = np.resize(train_x_data, (train_x_data.shape[0], train_x_data.shape[1]*train_x_data.shape[2]))\n",
    "train_x = Binarization(train_x)\n",
    "\n",
    "test_x_data = test_images\n",
    "# test_x = imageResize(test_x)\n",
    "test_y = test_labels\n",
    "test_x = np.resize(test_x_data, (test_x_data.shape[0], test_x_data.shape[1]*test_x_data.shape[2]))\n",
    "test_x = Binarization(test_x)\n",
    "\n",
    "prioriP, posteriorP = Bayes_train(train_x, train_y)\n",
    "accuracy = Bayes_pret(test_x, test_y, prioriP, posteriorP)\n",
    "\n",
    "print(accuracy)"
   ]
  },
  {
   "cell_type": "code",
   "execution_count": 3,
   "metadata": {},
   "outputs": [
    {
     "name": "stderr",
     "output_type": "stream",
     "text": [
      "F:\\Anaconda3\\lib\\site-packages\\sklearn\\utils\\validation.py:386: DeprecationWarning: Passing 1d arrays as data is deprecated in 0.17 and willraise ValueError in 0.19. Reshape your data either using X.reshape(-1, 1) if your data has a single feature or X.reshape(1, -1) if it contains a single sample.\n",
      "  DeprecationWarning)\n"
     ]
    },
    {
     "data": {
      "text/plain": [
       "array([9.])"
      ]
     },
     "execution_count": 3,
     "metadata": {},
     "output_type": "execute_result"
    }
   ],
   "source": [
    "from sklearn.naive_bayes import GaussianNB\n",
    "clf=GaussianNB()\n",
    "train_data=train_images.reshape((train_images.shape[0],train_images.shape[1]*train_images.shape[2]))\n",
    "test_data=test_images.reshape((test_images.shape[0],test_images.shape[1]*test_images.shape[2]))\n",
    "clf.fit(train_data,train_labels)\n",
    "clf.predict(test_data[0])"
   ]
  },
  {
   "cell_type": "code",
   "execution_count": 9,
   "metadata": {},
   "outputs": [
    {
     "data": {
      "text/plain": [
       "2.0"
      ]
     },
     "execution_count": 9,
     "metadata": {},
     "output_type": "execute_result"
    }
   ],
   "source": [
    "test_labels[1]"
   ]
  },
  {
   "cell_type": "code",
   "execution_count": 8,
   "metadata": {},
   "outputs": [
    {
     "data": {
      "text/plain": [
       "array([2.])"
      ]
     },
     "execution_count": 8,
     "metadata": {},
     "output_type": "execute_result"
    }
   ],
   "source": [
    "clf.predict(test_data[1].reshape(1,-1))"
   ]
  },
  {
   "cell_type": "code",
   "execution_count": 11,
   "metadata": {
    "scrolled": true
   },
   "outputs": [
    {
     "name": "stdout",
     "output_type": "stream",
     "text": [
      "[0.5558]\n"
     ]
    }
   ],
   "source": [
    "preprop=0\n",
    "i=0\n",
    "for image in test_data:\n",
    "    preprop+=clf.predict(image.reshape(1,-1))==test_labels[i]\n",
    "    i+=1\n",
    "print(preprop/float(test_data.shape[0]))"
   ]
  },
  {
   "cell_type": "code",
   "execution_count": null,
   "metadata": {
    "collapsed": true
   },
   "outputs": [],
   "source": []
  }
 ],
 "metadata": {
  "anaconda-cloud": {},
  "kernelspec": {
   "display_name": "Python 3",
   "language": "python",
   "name": "python3"
  },
  "language_info": {
   "codemirror_mode": {
    "name": "ipython",
    "version": 3
   },
   "file_extension": ".py",
   "mimetype": "text/x-python",
   "name": "python",
   "nbconvert_exporter": "python",
   "pygments_lexer": "ipython3",
   "version": "3.7.6"
  }
 },
 "nbformat": 4,
 "nbformat_minor": 1
}
