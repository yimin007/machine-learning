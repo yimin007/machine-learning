{
 "cells": [
  {
   "cell_type": "code",
   "execution_count": 1,
   "metadata": {
    "collapsed": false
   },
   "outputs": [],
   "source": [
    "import matplotlib.pyplot as plt\n",
    "from sklearn.datasets import load_iris\n",
    "from sklearn.datasets import load_breast_cancer\n",
    "from sklearn.tree import DecisionTreeClassifier\n",
    "from sklearn.ensemble import RandomForestClassifier\n",
    "import pandas as pd\n",
    "import numpy as np\n",
    "from sklearn import tree\n",
    "from collections import Counter\n",
    "import math"
   ]
  },
  {
   "cell_type": "code",
   "execution_count": 2,
   "metadata": {
    "collapsed": true
   },
   "outputs": [],
   "source": [
    "iris=load_iris()"
   ]
  },
  {
   "cell_type": "code",
   "execution_count": 3,
   "metadata": {
    "collapsed": false
   },
   "outputs": [],
   "source": [
    "def entropy(dataset):\n",
    "    dataset=np.array(dataset)\n",
    "    labelcount=Counter(dataset[:,-1])\n",
    "    num=len(dataset)\n",
    "    ent=-sum([labelcount[i]/num*math.log(labelcount[i]/float(num),2) for i in labelcount])\n",
    "    return ent\n",
    "def cond_ent(dataset,axis=0):\n",
    "    #axis:特征编号，用以计算相应特征下数据集的条件熵\n",
    "    featuredict={}\n",
    "    num=len(dataset)\n",
    "    for i in range(num):\n",
    "        feature=dataset[i][axis]\n",
    "        if feature not in featuredict:\n",
    "            featuredict[feature]=[]\n",
    "        featuredict[feature].append(dataset[i])\n",
    "    ent=sum([len(p)/num*entropy(p) for p in featuredict.values()])\n",
    "    return ent\n",
    "def info_gain_train(dataset):\n",
    "    featurenum=len(dataset[0])-1\n",
    "    maxind,maxent=-1,-1e3\n",
    "    base_ent=entropy(dataset)\n",
    "    for i in range(featurenum):\n",
    "        ent_gain=-cond_ent(dataset,axis=i)+base_ent\n",
    "        print(ent_gain)\n",
    "        if ent_gain>maxent:\n",
    "            maxind=i\n",
    "            maxent=ent_gain\n",
    "    return maxind"
   ]
  },
  {
   "cell_type": "code",
   "execution_count": 4,
   "metadata": {
    "collapsed": false
   },
   "outputs": [],
   "source": [
    "def create_data():\n",
    "    datasets = [['青年', '否', '否', '一般', '否'],\n",
    "               ['青年', '否', '否', '好', '否'],\n",
    "               ['青年', '是', '否', '好', '是'],\n",
    "               ['青年', '是', '是', '一般', '是'],\n",
    "               ['青年', '否', '否', '一般', '否'],\n",
    "               ['中年', '否', '否', '一般', '否'],\n",
    "               ['中年', '否', '否', '好', '否'],\n",
    "               ['中年', '是', '是', '好', '是'],\n",
    "               ['中年', '否', '是', '非常好', '是'],\n",
    "               ['中年', '否', '是', '非常好', '是'],\n",
    "               ['老年', '否', '是', '非常好', '是'],\n",
    "               ['老年', '否', '是', '好', '是'],\n",
    "               ['老年', '是', '否', '好', '是'],\n",
    "               ['老年', '是', '否', '非常好', '是'],\n",
    "               ['老年', '否', '否', '一般', '否'],\n",
    "               ]\n",
    "    labels = [u'年龄', u'有工作', u'有自己的房子', u'信贷情况', u'类别']\n",
    "    # 返回数据集和每个维度的名称\n",
    "    return datasets, labels\n",
    "dataset,features=create_data()"
   ]
  },
  {
   "cell_type": "code",
   "execution_count": 37,
   "metadata": {
    "collapsed": false
   },
   "outputs": [],
   "source": [
    "class node(object):\n",
    "    def __init__(self,feature=None,root=False,label=None,featurename=None):\n",
    "        self.root=root         #判断叶子节点\n",
    "        self.label=label       #标签     **\n",
    "        self.feature=feature   #选择特征 **\n",
    "        self.featurename=featurename\n",
    "        self.tree={}           #存储特征选择后的所有子节点的字典\n",
    "        self.result = {        \n",
    "            '特征选择': self.featurename,\n",
    "            'label:': self.label,\n",
    "            '子节点': self.tree\n",
    "            \n",
    "        }\n",
    "\n",
    "    def add_node(self,feature,node):\n",
    "        self.tree[feature]=node\n",
    "        \n",
    "    def __repr__(self):\n",
    "        return '{}'.format(self.result)\n",
    "    def predict(self,features):\n",
    "        # 若为叶子节点则返回标签\n",
    "        if self.root:\n",
    "            return self.label\n",
    "        #返回本节点特征选择后子节点的预测\n",
    "        if self.feature:        \n",
    "            #子集删除特征列后，预测序列应同子集保持一致\n",
    "            featurenew=features[:self.feature]\n",
    "            featurenew.extend(features[self.feature+1:])\n",
    "            return self.tree[features[self.feature]].predict(featurenew)\n",
    "        else:\n",
    "            return self.tree[features[self.feature]].predict(features)\n",
    "class dtree(object):\n",
    "    def __init__(self,features,epsion=0.1):\n",
    "        self.epsion=epsion\n",
    "        self._tree={}\n",
    "        self.featurelist=features\n",
    "        self.road=[]\n",
    "    def entropy(self,dataset):\n",
    "        m=len(dataset)\n",
    "        dataset=np.array(dataset)\n",
    "        labelcount={}\n",
    "        for label in dataset[:,-1]:\n",
    "            if label not in labelcount:\n",
    "                labelcount[label]=0\n",
    "            labelcount[label]+=1\n",
    "        ent=-sum([p/float(m)*math.log(p/float(m),2) for p in labelcount.values()])\n",
    "        return ent\n",
    "    def choose_feature(self,dataset):\n",
    "        base_ent=self.entropy(dataset)        \n",
    "        m,n=len(dataset),len(dataset[0])-1\n",
    "        maxent,maxind=0,-1\n",
    "        for ind in range(n):            \n",
    "            featuredict={}\n",
    "            for j in range(m):\n",
    "                feature=dataset[j][ind]\n",
    "                if feature not in featuredict:\n",
    "                    featuredict[feature]=[]\n",
    "                featuredict[feature].append(dataset[j])\n",
    "            ent_gain=base_ent-sum([len(p)/float(m)*self.entropy(p) for p in featuredict.values()])\n",
    "            if ent_gain>maxent:\n",
    "                maxent=ent_gain\n",
    "                maxind=ind\n",
    "        return maxind,maxent\n",
    "    def train(self,dataset):\n",
    "        dataset=np.array(dataset)\n",
    "        labels=dataset[:,-1].tolist()\n",
    "        #1 若标签仅有一种则直接返回标签\n",
    "        if labels.count(labels[0])==1:\n",
    "            return node(root=True,label=labels[0])\n",
    "        if len(dataset[0])==1:\n",
    "            label=max(labels,key=labels.count)\n",
    "            return node(root=True,label=label)       \n",
    "        bestfeature,maxent=self.choose_feature(dataset)\n",
    "        if maxent<self.epsion:\n",
    "            label=max(labels,key=labels.count)\n",
    "            return node(root=True,label=label)  \n",
    "        self.road.append(bestfeature)\n",
    "        tree=node(root=False,feature=bestfeature,featurename=self.featurelist[bestfeature])\n",
    "        subset={}\n",
    "        for ind in range(dataset.shape[0]):\n",
    "            feature=dataset[ind,bestfeature]\n",
    "            if feature not in subset:\n",
    "                subset[feature]=[]\n",
    "            newinstance=dataset[ind,:bestfeature].tolist()\n",
    "            newinstance.extend(dataset[ind,bestfeature+1:])\n",
    "            subset[feature].append(newinstance)\n",
    "        for feature in subset:\n",
    "            subtrain=np.array(subset[feature])\n",
    "            subnode=self.train(subtrain)\n",
    "            tree.add_node(feature=feature,node=subnode)       \n",
    "        return tree\n",
    "    def fit(self,dataset):\n",
    "        self._tree=self.train(dataset)\n",
    "        return self._tree\n",
    "    def predict(self,features):\n",
    "        return self._tree.predict(features)"
   ]
  },
  {
   "cell_type": "code",
   "execution_count": 38,
   "metadata": {
    "collapsed": false
   },
   "outputs": [
    {
     "name": "stdout",
     "output_type": "stream",
     "text": [
      "否\n"
     ]
    }
   ],
   "source": [
    "tree=dtree([u'年龄', u'有工作', u'有自己的房子', u'信贷情况', u'类别'])\n",
    "dt=tree.fit(dataset)\n",
    "#print(dt)\n",
    "print(dt.predict(['老年', '否', '否', '一般']))"
   ]
  },
  {
   "cell_type": "code",
   "execution_count": 8,
   "metadata": {
    "collapsed": false
   },
   "outputs": [
    {
     "name": "stdout",
     "output_type": "stream",
     "text": [
      "是\n"
     ]
    }
   ],
   "source": [
    "print(dt.predict(['老年', '否', '否', '一般']))"
   ]
  },
  {
   "cell_type": "code",
   "execution_count": 23,
   "metadata": {
    "collapsed": false
   },
   "outputs": [],
   "source": [
    "if None:\n",
    "    print('none')"
   ]
  },
  {
   "cell_type": "code",
   "execution_count": 12,
   "metadata": {
    "collapsed": false
   },
   "outputs": [
    {
     "data": {
      "text/plain": [
       "'是'"
      ]
     },
     "execution_count": 12,
     "metadata": {},
     "output_type": "execute_result"
    }
   ],
   "source": [
    "dt.predict(['青年', '是', '否', '非常好'])"
   ]
  },
  {
   "cell_type": "code",
   "execution_count": 236,
   "metadata": {
    "collapsed": false
   },
   "outputs": [
    {
     "name": "stdout",
     "output_type": "stream",
     "text": [
      "{'是': {'子节点': {}, 'label:': '是', 'loc:': 2, '特征选择': None}, '否': {'子节点': {'是': {'子节点': {}, 'label:': '是', 'loc:': 4, '特征选择': None}, '否': {'子节点': {}, 'label:': '否', 'loc:': 5, '特征选择': None}}, 'label:': None, 'loc:': 3, '特征选择': '有工作'}}\n"
     ]
    }
   ],
   "source": [
    "print(dt.tree)"
   ]
  },
  {
   "cell_type": "code",
   "execution_count": 167,
   "metadata": {
    "collapsed": false
   },
   "outputs": [],
   "source": [
    "# 定义节点类 二叉树\n",
    "class Node:\n",
    "    def __init__(self, root=True, label=None, feature_name=None, feature=None):\n",
    "        self.root = root\n",
    "        self.label = label\n",
    "        self.feature_name = feature_name\n",
    "        self.feature = feature\n",
    "        self.tree = {}\n",
    "        self.result = {\n",
    "            'label:': self.label,\n",
    "            'feature': self.feature,\n",
    "            'tree': self.tree\n",
    "        }\n",
    "\n",
    "    def __repr__(self):\n",
    "        return '{}'.format(self.result)\n",
    "\n",
    "    def add_node(self, val, node):\n",
    "        self.tree[val] = node\n",
    "\n",
    "    def predict(self, features):\n",
    "        if self.root is True:\n",
    "            return self.label\n",
    "        return self.tree[features[self.feature]].predict(features)\n",
    "\n",
    "\n",
    "class DTree:\n",
    "    def __init__(self, epsilon=0.1):\n",
    "        self.epsilon = epsilon\n",
    "        self._tree = {}\n",
    "\n",
    "    # 熵\n",
    "    @staticmethod\n",
    "    def calc_ent(datasets):\n",
    "        data_length = len(datasets)\n",
    "        label_count = {}\n",
    "        for i in range(data_length):\n",
    "            label = datasets[i][-1]\n",
    "            if label not in label_count:\n",
    "                label_count[label] = 0\n",
    "            label_count[label] += 1\n",
    "        ent = -sum([(p / data_length) * math.log(p / data_length, 2)\n",
    "                    for p in label_count.values()])\n",
    "        return ent\n",
    "\n",
    "    # 经验条件熵\n",
    "    def cond_ent(self, datasets, axis=0):\n",
    "        data_length = len(datasets)\n",
    "        feature_sets = {}\n",
    "        for i in range(data_length):\n",
    "            feature = datasets[i][axis]\n",
    "            if feature not in feature_sets:\n",
    "                feature_sets[feature] = []\n",
    "            feature_sets[feature].append(datasets[i])\n",
    "        cond_ent = sum([(len(p) / data_length) * self.calc_ent(p)\n",
    "                        for p in feature_sets.values()])\n",
    "        return cond_ent\n",
    "\n",
    "    # 信息增益\n",
    "    @staticmethod\n",
    "    def info_gain(ent, cond_ent):\n",
    "        return ent - cond_ent\n",
    "\n",
    "    def info_gain_train(self, datasets):\n",
    "        count = len(datasets[0]) - 1\n",
    "        ent = self.calc_ent(datasets)\n",
    "        best_feature = []\n",
    "        for c in range(count):\n",
    "            c_info_gain = self.info_gain(ent, self.cond_ent(datasets, axis=c))\n",
    "            best_feature.append((c, c_info_gain))\n",
    "        # 比较大小\n",
    "        best_ = max(best_feature, key=lambda x: x[-1])\n",
    "        return best_\n",
    "\n",
    "    def train(self, train_data):\n",
    "        y_train=train_data[:,-1].tolist()\n",
    "\n",
    "        # 1,若D中实例属于同一类Ck，则T为单节点树，并将类Ck作为结点的类标记，返回T\n",
    "        if y_train.count(y_train[0]) == 1:\n",
    "            return Node(root=True, label=y_train[0])\n",
    "        # 2, 若A为空，则T为单节点树，将D中实例树最大的类Ck作为该节点的类标记，返回T\n",
    "        if len(features) == 0:\n",
    "            return Node(root=True,label=max(y_train,key=y_train.count))\n",
    "\n",
    "        # 3,计算最大信息增益 同5.1,Ag为信息增益最大的特征\n",
    "        bestfeature, max_info_gain = self.info_gain_train(np.array(train_data))\n",
    "  \n",
    "        # 4,Ag的信息增益小于阈值eta,则置T为单节点树，并将D中是实例数最大的类Ck作为该节点的类标记，返回T\n",
    "        if max_info_gain < self.epsilon:\n",
    "            return Node(root=True,label=max(y_train,key=y_train.count))\n",
    "\n",
    "        # 5,构建Ag子集\n",
    "        node_tree = Node(root=False, feature=bestfeature)\n",
    "\n",
    "\n",
    "        subset={}\n",
    "        for ind in range(train_data.shape[0]):\n",
    "            feature=train_data[ind,bestfeature]\n",
    "            if feature not in subset:\n",
    "                subset[feature]=[]\n",
    "            newinstance=train_data[ind,:bestfeature].tolist()\n",
    "            newinstance.extend(train_data[ind,bestfeature+1:])\n",
    "            subset[feature].append(newinstance)\n",
    "        for feature in subset:\n",
    "            sub_train=np.array(subset[feature])\n",
    "            # 6, 递归生成树\n",
    "            sub_tree = self.train(sub_train)\n",
    "            node_tree.add_node(feature, sub_tree)\n",
    "\n",
    "        return node_tree\n",
    "\n",
    "    def fit(self, train_data):\n",
    "        self._tree = self.train(train_data)\n",
    "        return self._tree\n",
    "\n",
    "    def predict(self, X_test):\n",
    "        return self._tree.predict(X_test)"
   ]
  },
  {
   "cell_type": "code",
   "execution_count": 182,
   "metadata": {
    "collapsed": false
   },
   "outputs": [],
   "source": [
    "datasets, labels = create_data()\n",
    "data_df = pd.DataFrame(datasets, columns=labels)\n",
    "DT = DTree()\n",
    "dataset=np.array(datasets)\n",
    "Tree = DT.fit(dataset)"
   ]
  },
  {
   "cell_type": "code",
   "execution_count": 183,
   "metadata": {
    "collapsed": false
   },
   "outputs": [
    {
     "data": {
      "text/plain": [
       "{'feature': 2, 'label:': None, 'tree': {'是': {'feature': None, 'label:': '是', 'tree': {}}, '否': {'feature': 1, 'label:': None, 'tree': {'是': {'feature': None, 'label:': '是', 'tree': {}}, '否': {'feature': None, 'label:': '否', 'tree': {}}}}}}"
      ]
     },
     "execution_count": 183,
     "metadata": {},
     "output_type": "execute_result"
    }
   ],
   "source": [
    "Tree"
   ]
  },
  {
   "cell_type": "code",
   "execution_count": 180,
   "metadata": {
    "collapsed": false
   },
   "outputs": [
    {
     "data": {
      "text/plain": [
       "'否'"
      ]
     },
     "execution_count": 180,
     "metadata": {},
     "output_type": "execute_result"
    }
   ],
   "source": [
    "dt.predict(['老年', '否', '否', '一般'])"
   ]
  },
  {
   "cell_type": "code",
   "execution_count": 181,
   "metadata": {
    "collapsed": false
   },
   "outputs": [
    {
     "data": {
      "text/plain": [
       "2"
      ]
     },
     "execution_count": 181,
     "metadata": {},
     "output_type": "execute_result"
    }
   ],
   "source": [
    "a=['否','是','否','是','是','是']\n",
    "a.count(a[0])"
   ]
  },
  {
   "cell_type": "code",
   "execution_count": 157,
   "metadata": {
    "collapsed": false
   },
   "outputs": [
    {
     "data": {
      "text/plain": [
       "'是'"
      ]
     },
     "execution_count": 157,
     "metadata": {},
     "output_type": "execute_result"
    }
   ],
   "source": [
    "max(a,key=a.count)"
   ]
  },
  {
   "cell_type": "code",
   "execution_count": null,
   "metadata": {
    "collapsed": true
   },
   "outputs": [],
   "source": []
  }
 ],
 "metadata": {
  "anaconda-cloud": {},
  "kernelspec": {
   "display_name": "Python [conda env:Anaconda3]",
   "language": "python",
   "name": "conda-env-Anaconda3-py"
  },
  "language_info": {
   "codemirror_mode": {
    "name": "ipython",
    "version": 3
   },
   "file_extension": ".py",
   "mimetype": "text/x-python",
   "name": "python",
   "nbconvert_exporter": "python",
   "pygments_lexer": "ipython3",
   "version": "3.5.6"
  }
 },
 "nbformat": 4,
 "nbformat_minor": 1
}
