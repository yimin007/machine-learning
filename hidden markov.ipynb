{
 "cells": [
  {
   "cell_type": "code",
   "execution_count": 3,
   "metadata": {
    "collapsed": true
   },
   "outputs": [],
   "source": [
    "import numpy as np\n",
    "from math import *"
   ]
  },
  {
   "cell_type": "code",
   "execution_count": 237,
   "metadata": {},
   "outputs": [],
   "source": [
    "class HiddenMarkov(object):\n",
    "    def __init__(self,Q,V,A=None,B=None,PI=None,O=None):\n",
    "        self.Q=np.array(Q)\n",
    "        self.V=np.array(V)\n",
    "        self.A=np.array(A)\n",
    "        self.B=np.array(B)\n",
    "        self.PI=np.array(PI)\n",
    "        self.O=np.array(O)\n",
    "        self.gama=None\n",
    "        self.xi=None\n",
    "    def forward(self,A=None,B=None,PI=None,O=None):\n",
    "\n",
    "        n,T=len(self.PI),len(self.O)\n",
    "        #创建前向概率矩阵，i行j列表示j时刻处于i状态且观测为O[:j]的概率\n",
    "        alp=np.empty((n,T))\n",
    "        #观测序列转化为索引\n",
    "        b=np.where(self.V==self.O[0])[0][0]        \n",
    "        alp[:,0]=self.PI*self.B[:,b]\n",
    "        for i in range(1,T):\n",
    "            b=np.where(self.V==self.O[i])[0][0] \n",
    "            for j in range(n):\n",
    "                alp[j,i]=np.sum(alp[:,i-1]*self.A[:,j])*self.B[j,b]\n",
    "        \n",
    "        return alp\n",
    "    def backward(self,A=None,B=None,PI=None,O=None):\n",
    "\n",
    "        n,T=len(self.PI),len(self.O)\n",
    "        #创建后向概率矩阵，i行j列表示j时刻处于i状态的前提下，观测为O[j+1:]的概率\n",
    "        beta=np.empty((n,T))\n",
    "        beta[:,-1]=1\n",
    "        for i in range(T-2,-1,-1):\n",
    "            b=np.where(self.V==self.O[i+1])[0][0] \n",
    "            for j in range(n):\n",
    "                beta[j,i]=np.sum(self.A[j,:]*self.B[:,b]*beta[:,i+1])\n",
    "        \n",
    "        return beta\n",
    "        \n",
    "    def cal(self):\n",
    "        alp=self.forward(self.A,self.B,self.PI,self.O)\n",
    "        beta=self.backward(self.A,self.B,self.PI,self.O)\n",
    "        n,T=np.shape(alp)\n",
    "        self.gama=np.empty(np.shape(alp))\n",
    "        self.xi=np.empty((T,n,n))\n",
    "        for i in range(T):\n",
    "            \n",
    "            self.gama[:,i]=alp[:,i]*beta[:,i]/(sum(alp[:,i]*beta[:,i]))\n",
    "            if i<T-1:\n",
    "                b=np.where(self.V==self.O[i+1])[0][0]       \n",
    "                #创建行列向量得到矩阵\n",
    "                ax,bx=np.ix_(alp[:,i],beta[:,i+1]*self.B[:,b])\n",
    "                #一维行列得到矩阵，然后矩阵点乘\n",
    "                mat=ax.dot(bx)*self.A\n",
    "                self.xi[i,:,:]=mat/np.sum(mat,axis=(0,1))\n",
    "\n",
    "        return None\n",
    "    def BaumWelch_train(self):\n",
    "        self.cal()\n",
    "        self.A=np.sum(self.xi[:-1,:,:],axis=0)/np.sum(self.gama[:,:-1],axis=1)\n",
    "        for j in range(self.B.shape[1]):\n",
    "            # 统计第j类状态在观测序列中出现的索引\n",
    "            b=np.where(self.O==self.V[j])[0]\n",
    "            if len(b)<2:\n",
    "                self.B[:,j]=np.sum(self.gama[:,b])/np.sum(self.gama,axis=1)\n",
    "            else:\n",
    "                self.B[:,j]=np.sum(self.gama[:,b],axis=1)/np.sum(self.gama,axis=1)\n",
    "        self.PI=self.gama[:,0]\n",
    "        return None\n",
    "    def BaumWelch(self,A,B,PI,O):\n",
    "        self.A,self.B,self.PI,self.O=np.array(A),np.array(B),np.array(PI),np.array(O)\n",
    "        epoch,i=100,1\n",
    "        eps,EPS=1,1e-9\n",
    "        norm=np.linalg.norm\n",
    "        while eps>EPS and i<epoch:\n",
    "            A,B,PI,O=self.A,self.B,self.PI,self.O\n",
    "            self.BaumWelch_train()\n",
    "            i=i+1            \n",
    "            eps=norm(self.A-A)+norm(self.B-B)+norm(self.PI-PI)\n",
    "        return self.A,self.B,self,PI\n",
    "    \n",
    "    def viterbi(self,A,B,PI,O):\n",
    "        self.A,self.B,self.PI,self.O=np.array(A),np.array(B),np.array(PI),np.array(O)\n",
    "        n,T=self.A.shape[0],self.O.shape[0]\n",
    "        # 定义前项概率状态序列的最大值时刻矩阵，以及相应索引矩阵\n",
    "        deta,psai=np.empty((n,T)),np.empty((n,T),dtype='int32')\n",
    "        b=np.where(self.V==self.O[0])[0][0]\n",
    "        deta[:,0]=self.PI*self.B[:,b]\n",
    "        psai[:,0]=0\n",
    "        for t in range(1,T):\n",
    "            b=np.where(self.V==self.O[t])[0][0]\n",
    "            for i in range(n):\n",
    "                dji=deta[:,t-1]*self.A[:,i]\n",
    "                deta[i,t]=np.max(dji)*self.B[i,b]\n",
    "                psai[i,t]=np.argmax(dji)\n",
    "        I=np.empty(T,dtype='int32')\n",
    "        I[-1]=np.argmax(deta[:,-1])\n",
    "        print(I[-1])\n",
    "        for t in range(T-2,-1,-1):\n",
    "            I[t]=psai[I[t+1],t+1]\n",
    "        return I"
   ]
  },
  {
   "cell_type": "code",
   "execution_count": 238,
   "metadata": {},
   "outputs": [],
   "source": [
    "Q = [1, 2, 3]\n",
    "V = ['红', '白']\n",
    "A = [[0.5, 0.2, 0.3], [0.3, 0.5, 0.2], [0.2, 0.3, 0.5]]\n",
    "B = [[0.5, 0.5], [0.4, 0.6], [0.7, 0.3]]\n",
    "# O = ['红', '白', '红', '红', '白', '红', '白', '白']\n",
    "O = ['红', '白', '红', '白']    #习题10.1的例子\n",
    "PI = [0.2, 0.4, 0.4]\n",
    "hm=HiddenMarkov(Q,V,A,B,PI,O)"
   ]
  },
  {
   "cell_type": "code",
   "execution_count": 239,
   "metadata": {},
   "outputs": [
    {
     "name": "stdout",
     "output_type": "stream",
     "text": [
      "2\n"
     ]
    },
    {
     "data": {
      "text/plain": [
       "array([2, 2, 2])"
      ]
     },
     "execution_count": 239,
     "metadata": {},
     "output_type": "execute_result"
    }
   ],
   "source": [
    "O=['红','白','红']\n",
    "hm.viterbi(A,B,PI,O)"
   ]
  },
  {
   "cell_type": "code",
   "execution_count": 148,
   "metadata": {},
   "outputs": [],
   "source": [
    "b=hm.backward()"
   ]
  },
  {
   "cell_type": "code",
   "execution_count": 149,
   "metadata": {},
   "outputs": [
    {
     "name": "stdout",
     "output_type": "stream",
     "text": [
      "0.06009079999999999\n",
      "0.06009079999999999\n"
     ]
    }
   ],
   "source": [
    "c=np.where(hm.V==hm.O[0])[0][0]\n",
    "print(np.sum(hm.PI*hm.B[:,c]*b[:,0]))\n",
    "print(np.sum(a[:,-1]))"
   ]
  },
  {
   "cell_type": "code",
   "execution_count": 208,
   "metadata": {},
   "outputs": [
    {
     "data": {
      "text/plain": [
       "(array([[0.  , 0.  , 0.25],\n",
       "        [0.  , 0.  , 0.25],\n",
       "        [2.  , 2.  , 0.  ]]), array([[0., 1.],\n",
       "        [0., 1.],\n",
       "        [1., 0.]]), <__main__.HiddenMarkov at 0x1fe74606b00>, array([0., 0., 1.]))"
      ]
     },
     "execution_count": 208,
     "metadata": {},
     "output_type": "execute_result"
    }
   ],
   "source": [
    "hm.BaumWelch(A,B,PI,O)"
   ]
  },
  {
   "cell_type": "code",
   "execution_count": 205,
   "metadata": {},
   "outputs": [
    {
     "data": {
      "text/plain": [
       "3.7416573867739413"
      ]
     },
     "execution_count": 205,
     "metadata": {},
     "output_type": "execute_result"
    }
   ],
   "source": [
    "a=np.linalg.norm\n",
    "a([1,2,3])"
   ]
  },
  {
   "cell_type": "code",
   "execution_count": 209,
   "metadata": {
    "collapsed": true
   },
   "outputs": [],
   "source": [
    "A=np.arange(9).reshape((3,3))\n",
    "b=np.array([1,2,1])"
   ]
  },
  {
   "cell_type": "code",
   "execution_count": 210,
   "metadata": {},
   "outputs": [
    {
     "data": {
      "text/plain": [
       "array([[ 0,  2,  2],\n",
       "       [ 3,  8,  5],\n",
       "       [ 6, 14,  8]])"
      ]
     },
     "execution_count": 210,
     "metadata": {},
     "output_type": "execute_result"
    }
   ],
   "source": [
    "b*A"
   ]
  },
  {
   "cell_type": "code",
   "execution_count": 212,
   "metadata": {},
   "outputs": [
    {
     "name": "stdout",
     "output_type": "stream",
     "text": [
      "[1 2 1] [[0 1 2]\n",
      " [3 4 5]\n",
      " [6 7 8]]\n"
     ]
    }
   ],
   "source": [
    "print(b,A)"
   ]
  },
  {
   "cell_type": "code",
   "execution_count": 216,
   "metadata": {},
   "outputs": [
    {
     "ename": "TypeError",
     "evalue": "'numpy.int32' object is not iterable",
     "output_type": "error",
     "traceback": [
      "\u001b[0;31m---------------------------------------------------------------------------\u001b[0m",
      "\u001b[0;31mTypeError\u001b[0m                                 Traceback (most recent call last)",
      "\u001b[0;32m<ipython-input-216-f7d434196710>\u001b[0m in \u001b[0;36m<module>\u001b[0;34m()\u001b[0m\n\u001b[0;32m----> 1\u001b[0;31m \u001b[0mnum\u001b[0m\u001b[1;33m,\u001b[0m\u001b[0mind\u001b[0m\u001b[1;33m=\u001b[0m\u001b[0mnp\u001b[0m\u001b[1;33m.\u001b[0m\u001b[0mmax\u001b[0m\u001b[1;33m(\u001b[0m\u001b[1;33m[\u001b[0m\u001b[1;36m5\u001b[0m\u001b[1;33m,\u001b[0m\u001b[1;36m8\u001b[0m\u001b[1;33m,\u001b[0m\u001b[1;36m3\u001b[0m\u001b[1;33m]\u001b[0m\u001b[1;33m)\u001b[0m\u001b[1;33m\u001b[0m\u001b[0m\n\u001b[0m",
      "\u001b[0;31mTypeError\u001b[0m: 'numpy.int32' object is not iterable"
     ]
    }
   ],
   "source": [
    "num,ind=np.max([5,8,3])"
   ]
  },
  {
   "cell_type": "code",
   "execution_count": 217,
   "metadata": {},
   "outputs": [
    {
     "data": {
      "text/plain": [
       "1"
      ]
     },
     "execution_count": 217,
     "metadata": {},
     "output_type": "execute_result"
    }
   ],
   "source": [
    "np.argmax([5,8,3])"
   ]
  },
  {
   "cell_type": "code",
   "execution_count": null,
   "metadata": {
    "collapsed": true
   },
   "outputs": [],
   "source": []
  }
 ],
 "metadata": {
  "anaconda-cloud": {},
  "kernelspec": {
   "display_name": "Python 3",
   "language": "python",
   "name": "python3"
  },
  "language_info": {
   "codemirror_mode": {
    "name": "ipython",
    "version": 3
   },
   "file_extension": ".py",
   "mimetype": "text/x-python",
   "name": "python",
   "nbconvert_exporter": "python",
   "pygments_lexer": "ipython3",
   "version": "3.7.6"
  }
 },
 "nbformat": 4,
 "nbformat_minor": 1
}
